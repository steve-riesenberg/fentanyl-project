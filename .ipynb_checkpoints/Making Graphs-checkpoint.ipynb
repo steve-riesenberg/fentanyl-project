{
 "cells": [
  {
   "cell_type": "code",
   "execution_count": 1,
   "metadata": {},
   "outputs": [
    {
     "name": "stderr",
     "output_type": "stream",
     "text": [
      "/home/steve/anaconda3/lib/python3.7/site-packages/pysal/__init__.py:65: VisibleDeprecationWarning: PySAL's API will be changed on 2018-12-31. The last release made with this API is version 1.14.4. A preview of the next API version is provided in the `pysal` 2.0 prelease candidate. The API changes and a guide on how to change imports is provided at https://migrating.pysal.org\n",
      "  ), VisibleDeprecationWarning)\n"
     ]
    }
   ],
   "source": [
    "import pandas as pd\n",
    "import geopandas as gpd\n",
    "from shapely.geometry import shape\n",
    "import matplotlib.pyplot as plt\n",
    "from matplotlib.colors import LinearSegmentedColormap\n",
    "import pysal as ps\n",
    "import seaborn as sns\n",
    "from sklearn.metrics import mean_squared_error\n",
    "from sklearn.model_selection import train_test_split\n",
    "from sklearn.svm import SVR\n",
    "import xgboost as xgb\n",
    "from sklearn.preprocessing import LabelEncoder\n",
    "import numpy as np\n",
    "# from fancyimpute import KNN\n",
    "from sklearn.preprocessing import OneHotEncoder\n",
    "from sklearn.preprocessing import StandardScaler\n",
    "%matplotlib inline\n",
    "%config IPCompleter.greedy=True"
   ]
  },
  {
   "cell_type": "code",
   "execution_count": 3,
   "metadata": {},
   "outputs": [],
   "source": [
    "hdf = pd.read_csv('ratio_predicted.csv')\n",
    "fent_all_years = pd.read_csv('all_fentanyl_by_county.txt', sep = '\\t')\n",
    "fent_13_17 = pd.read_csv('all_fent_by_county_13-17.txt', sep = '\\t')\n",
    "national_fent = pd.read_csv('national_fent.txt', sep = '\\t')\n",
    "national_all_opioids = pd.read_csv('grouped_by_year_not_county_all_opioids.txt', sep = '\\t')\n",
    "national_fent_cocaine = pd.read_csv('fent_and_cocaine.txt', sep = '\\t')\n",
    "fent_by_state = pd.read_csv('fent_state.txt', sep = '\\t')"
   ]
  },
  {
   "cell_type": "code",
   "execution_count": 4,
   "metadata": {},
   "outputs": [],
   "source": [
    "fent_all_years = fent_all_years.drop('Notes', axis = 'columns')\n",
    "fent_all_years = fent_all_years.dropna()\n",
    "fent_all_years.columns = ['county', 'county_code', 'deaths', 'population', 'crude_rate', 'aa_rate']\n",
    "\n",
    "fent_13_17 = fent_13_17.drop('Notes', axis = 'columns')\n",
    "fent_13_17 = fent_13_17.dropna()\n",
    "fent_13_17.columns = ['county', 'county_code', 'deaths', 'population', 'crude_rate', 'aa_rate']\n",
    "\n",
    "national_fent = national_fent.drop('Notes', axis = 'columns')\n",
    "national_fent = national_fent.dropna()\n",
    "national_fent = national_fent.drop('Year Code', axis = 'columns')\n",
    "national_fent.columns = ['year', 'deaths', 'population', 'crude_rate', 'aa_rate']\n",
    "\n",
    "national_all_opioids = national_all_opioids.drop('Notes', axis = 'columns')\n",
    "national_all_opioids = national_all_opioids.dropna()\n",
    "national_all_opioids = national_all_opioids.drop('Year Code', axis = 'columns')\n",
    "national_all_opioids.columns = ['year', 'deaths', 'population', 'crude_rate']\n",
    "\n",
    "national_fent_cocaine = national_fent_cocaine.drop('Notes', axis = 'columns')\n",
    "national_fent_cocaine = national_fent_cocaine.dropna()\n",
    "national_fent_cocaine = national_fent_cocaine.drop('Year Code', axis = 'columns')\n",
    "national_fent_cocaine.columns = ['year', 'deaths', 'population', 'crude_rate', 'aa_rate']\n",
    "\n",
    "fent_by_state = fent_by_state.drop(['Notes', 'Year Code'], axis = 'columns')\n",
    "fent_by_state = fent_by_state.dropna()\n",
    "fent_by_state.columns = ['state', 'state_code', 'year', 'deaths', 'population', 'crude_rate', 'aa_rate']"
   ]
  },
  {
   "cell_type": "code",
   "execution_count": 5,
   "metadata": {},
   "outputs": [],
   "source": [
    "def convert_suppressed(entry):\n",
    "    if entry == 'Suppressed':\n",
    "        return 0\n",
    "    elif entry == 'Missing':\n",
    "        return 0\n",
    "    elif entry == 'Unreliable':\n",
    "        return 0\n",
    "    else:\n",
    "        return int(entry)\n",
    "\n",
    "fent_all_years['deaths'] = fent_all_years['deaths'].apply(convert_suppressed)\n",
    "fent_13_17['deaths'] = fent_13_17['deaths'].apply(convert_suppressed)\n",
    "national_fent['deaths'] = national_fent['deaths'].apply(convert_suppressed)\n",
    "national_all_opioids['deaths'] = national_all_opioids['deaths'].apply(convert_suppressed)\n",
    "national_fent_cocaine['deaths'] = national_fent_cocaine['deaths'].apply(convert_suppressed)\n",
    "fent_by_state['deaths'] = fent_by_state['deaths'].apply(convert_suppressed)"
   ]
  },
  {
   "cell_type": "code",
   "execution_count": 8,
   "metadata": {},
   "outputs": [
    {
     "ename": "ModuleNotFoundError",
     "evalue": "No module named 'plotly'",
     "output_type": "error",
     "traceback": [
      "\u001b[0;31m---------------------------------------------------------------------------\u001b[0m",
      "\u001b[0;31mModuleNotFoundError\u001b[0m                       Traceback (most recent call last)",
      "\u001b[0;32m<ipython-input-8-bf9d32352068>\u001b[0m in \u001b[0;36m<module>\u001b[0;34m\u001b[0m\n\u001b[0;32m----> 1\u001b[0;31m \u001b[0;32mimport\u001b[0m \u001b[0mplotly\u001b[0m\u001b[0;34m\u001b[0m\u001b[0;34m\u001b[0m\u001b[0m\n\u001b[0m\u001b[1;32m      2\u001b[0m \u001b[0;32mimport\u001b[0m \u001b[0mplotly\u001b[0m\u001b[0;34m.\u001b[0m\u001b[0mfigure_factory\u001b[0m \u001b[0;32mas\u001b[0m \u001b[0mff\u001b[0m\u001b[0;34m\u001b[0m\u001b[0;34m\u001b[0m\u001b[0m\n\u001b[1;32m      3\u001b[0m \u001b[0;34m\u001b[0m\u001b[0m\n\u001b[1;32m      4\u001b[0m \u001b[0;32mimport\u001b[0m \u001b[0mnumpy\u001b[0m \u001b[0;32mas\u001b[0m \u001b[0mnp\u001b[0m\u001b[0;34m\u001b[0m\u001b[0;34m\u001b[0m\u001b[0m\n\u001b[1;32m      5\u001b[0m \u001b[0;32mimport\u001b[0m \u001b[0mpandas\u001b[0m \u001b[0;32mas\u001b[0m \u001b[0mpd\u001b[0m\u001b[0;34m\u001b[0m\u001b[0;34m\u001b[0m\u001b[0m\n",
      "\u001b[0;31mModuleNotFoundError\u001b[0m: No module named 'plotly'"
     ]
    }
   ],
   "source": [
    "import plotly\n",
    "import plotly.figure_factory as ff\n",
    "\n",
    "import numpy as np\n",
    "import pandas as pd\n",
    "plotly.tools.set_credentials_file(username='steve.riesenberg', api_key='XYKDTo19pHDM2oPU97oc')\n",
    "\n",
    "# df_sample = pd.read_csv('https://raw.githubusercontent.com/plotly/datasets/master/laucnty16.csv')\n",
    "# df_sample['State FIPS Code'] = df_sample['State FIPS Code'].apply(lambda x: str(x).zfill(2))\n",
    "# df_sample['County FIPS Code'] = df_sample['County FIPS Code'].apply(lambda x: str(x).zfill(3))\n",
    "# df_sample['FIPS'] = df_sample['State FIPS Code'] + df_sample['County FIPS Code']\n",
    "\n",
    "colorscale = ['#edf8e9',\n",
    "'#c7e9c0',\n",
    "'#a1d99b',\n",
    "'#74c476',\n",
    "'#31a354',\n",
    "'#006d2c']\n",
    "\n",
    "endpts = [0.1, 10, 20, 30, 40]\n",
    "fips = hdf.county_code.tolist()\n",
    "values = hdf.ratio_pred_rate17.tolist()\n",
    "\n",
    "fig = ff.create_choropleth(\n",
    "    fips = fips, values = values, scope = ['usa'],\n",
    "    binning_endpoints = endpts, colorscale = colorscale,\n",
    "    show_state_data = False,\n",
    "    show_hover = True, centroid_marker = {\n",
    "        'opacity': 0\n",
    "    },\n",
    "    asp = 2.9,\n",
    "    title = 'Fentanyl Overdose Deaths per 100,000 People',\n",
    "    titlefont = 36,\n",
    "    legend_title = 'Rate per 100,000'\n",
    ")\n",
    "\n",
    "plotly.plotly.iplot(fig, filename = 'choropleth_full_usa')"
   ]
  },
  {
   "cell_type": "code",
   "execution_count": null,
   "metadata": {},
   "outputs": [],
   "source": []
  }
 ],
 "metadata": {
  "kernelspec": {
   "display_name": "Python 3",
   "language": "python",
   "name": "python3"
  },
  "language_info": {
   "codemirror_mode": {
    "name": "ipython",
    "version": 3
   },
   "file_extension": ".py",
   "mimetype": "text/x-python",
   "name": "python",
   "nbconvert_exporter": "python",
   "pygments_lexer": "ipython3",
   "version": "3.7.1"
  }
 },
 "nbformat": 4,
 "nbformat_minor": 2
}
