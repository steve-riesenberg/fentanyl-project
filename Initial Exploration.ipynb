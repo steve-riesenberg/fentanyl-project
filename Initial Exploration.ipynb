{
 "cells": [
  {
   "cell_type": "code",
   "execution_count": 1,
   "metadata": {},
   "outputs": [],
   "source": [
    "import pandas as pd\n",
    "import geopandas as gpd\n",
    "from shapely.geometry import shape\n",
    "import matplotlib.pyplot as plt\n",
    "%matplotlib inline"
   ]
  },
  {
   "cell_type": "code",
   "execution_count": 2,
   "metadata": {},
   "outputs": [],
   "source": [
    "all_causes = pd.read_csv('year_county_T40.0-4.txt', sep = '\\t')\n",
    "fent = pd.read_csv('year_county_only40.4.txt', sep = '\\t')\n",
    "fent_all_years = pd.read_csv('county_only40.4.txt', sep = '\\t')\n",
    "fent_12on = pd.read_csv('county_only40.4_2012on.txt', sep = '\\t')"
   ]
  },
  {
   "cell_type": "code",
   "execution_count": 3,
   "metadata": {},
   "outputs": [],
   "source": [
    "all_causes = all_causes.drop(['Notes', 'Year Code'], axis = 'columns')\n",
    "all_causes.columns = ['county', 'county_code', 'year', 'deaths', 'population', 'crude_rate']\n",
    "fent = fent.drop(['Notes', 'Year Code'], axis = 'columns')\n",
    "fent.columns = ['county', 'county_code', 'year', 'deaths', 'population', 'crude_rate']\n",
    "fent_all_years = fent_all_years.drop('Notes', axis = 'columns')\n",
    "fent_all_years.columns = ['county', 'county_code', 'deaths', 'population', 'crude_rate']\n",
    "fent_12on = fent_12on.drop('Notes', axis = 'columns')\n",
    "fent_12on.columns = ['county', 'county_code', 'deaths', 'population', 'crude_rate']\n",
    "all_causes.dropna(inplace = True)\n",
    "fent.dropna(inplace = True)\n",
    "fent_all_years.dropna(inplace = True)\n",
    "fent_12on.dropna(inplace = True)"
   ]
  },
  {
   "cell_type": "code",
   "execution_count": 4,
   "metadata": {},
   "outputs": [],
   "source": [
    "counties = gpd.read_file('us-counties.json')"
   ]
  },
  {
   "cell_type": "code",
   "execution_count": 27,
   "metadata": {},
   "outputs": [
    {
     "data": {
      "text/plain": [
       "str"
      ]
     },
     "execution_count": 27,
     "metadata": {},
     "output_type": "execute_result"
    }
   ],
   "source": [
    "# drop alaska and hawaii\n",
    "# convert to number, replace suppressed and missing with 0 for now?"
   ]
  },
  {
   "cell_type": "code",
   "execution_count": null,
   "metadata": {},
   "outputs": [],
   "source": []
  },
  {
   "cell_type": "code",
   "execution_count": null,
   "metadata": {},
   "outputs": [],
   "source": []
  }
 ],
 "metadata": {
  "kernelspec": {
   "display_name": "Python 3",
   "language": "python",
   "name": "python3"
  },
  "language_info": {
   "codemirror_mode": {
    "name": "ipython",
    "version": 3
   },
   "file_extension": ".py",
   "mimetype": "text/x-python",
   "name": "python",
   "nbconvert_exporter": "python",
   "pygments_lexer": "ipython3",
   "version": "3.7.1"
  }
 },
 "nbformat": 4,
 "nbformat_minor": 2
}
